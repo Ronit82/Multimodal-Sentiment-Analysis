{
  "metadata": {
    "kernelspec": {
      "language": "python",
      "display_name": "Python 3",
      "name": "python3"
    },
    "language_info": {
      "name": "python",
      "version": "3.10.13",
      "mimetype": "text/x-python",
      "codemirror_mode": {
        "name": "ipython",
        "version": 3
      },
      "pygments_lexer": "ipython3",
      "nbconvert_exporter": "python",
      "file_extension": ".py"
    },
    "kaggle": {
      "accelerator": "gpu",
      "dataSources": [
        {
          "sourceId": 8226429,
          "sourceType": "datasetVersion",
          "datasetId": 4877821
        }
      ],
      "dockerImageVersionId": 30698,
      "isInternetEnabled": true,
      "language": "python",
      "sourceType": "notebook",
      "isGpuEnabled": true
    },
    "colab": {
      "provenance": [],
      "include_colab_link": true
    }
  },
  "nbformat_minor": 0,
  "nbformat": 4,
  "cells": [
    {
      "cell_type": "markdown",
      "metadata": {
        "id": "view-in-github",
        "colab_type": "text"
      },
      "source": [
        "<a href=\"https://colab.research.google.com/github/Ronit82/Multimodal-Sentiment-Analysis/blob/main/multimodal_emotion_analysis.ipynb\" target=\"_parent\"><img src=\"https://colab.research.google.com/assets/colab-badge.svg\" alt=\"Open In Colab\"/></a>"
      ]
    },
    {
      "cell_type": "markdown",
      "source": [
        "# Multi - Modal Emotion Analysis with IEMOCAP dataset"
      ],
      "metadata": {
        "id": "xonYR1DdlI3a"
      }
    },
    {
      "cell_type": "code",
      "source": [
        "# Import modules\n",
        "import os\n",
        "import wave\n",
        "import numpy as np\n",
        "import pickle\n",
        "import librosa\n",
        "import gensim.downloader as api"
      ],
      "metadata": {
        "execution": {
          "iopub.status.busy": "2024-04-25T13:22:26.358971Z",
          "iopub.execute_input": "2024-04-25T13:22:26.359350Z",
          "iopub.status.idle": "2024-04-25T13:22:26.364417Z",
          "shell.execute_reply.started": "2024-04-25T13:22:26.359317Z",
          "shell.execute_reply": "2024-04-25T13:22:26.363417Z"
        },
        "trusted": true,
        "id": "l_UboTnBlI3c"
      },
      "execution_count": null,
      "outputs": []
    },
    {
      "cell_type": "code",
      "source": [
        "# Import Modules\n",
        "import tensorflow as tf\n",
        "from keras.models import Model\n",
        "from keras.layers import Input, LSTM, Flatten, Concatenate, Attention, Embedding, Dense, Activation, Dropout, Conv2D\n",
        "from tensorflow.keras.preprocessing.text import Tokenizer\n",
        "from tensorflow.keras.preprocessing.sequence import pad_sequences\n",
        "from sklearn.preprocessing import label_binarize"
      ],
      "metadata": {
        "execution": {
          "iopub.status.busy": "2024-04-25T13:22:26.668709Z",
          "iopub.execute_input": "2024-04-25T13:22:26.669443Z",
          "iopub.status.idle": "2024-04-25T13:22:26.678297Z",
          "shell.execute_reply.started": "2024-04-25T13:22:26.669385Z",
          "shell.execute_reply": "2024-04-25T13:22:26.677067Z"
        },
        "trusted": true,
        "id": "wW8ITznolI3d"
      },
      "execution_count": null,
      "outputs": []
    },
    {
      "cell_type": "markdown",
      "source": [
        "# 1. Helper functions"
      ],
      "metadata": {
        "id": "0sVaOBxmlI3e"
      }
    },
    {
      "cell_type": "code",
      "source": [
        "def split_wav(wav, emotions):\n",
        "    (nchannels, sampwidth, framerate, nframes, comptype, compname), samples = wav\n",
        "\n",
        "    left = samples[0::nchannels]\n",
        "    right = samples[1::nchannels]\n",
        "\n",
        "    frames = []\n",
        "    for ie, e in enumerate(emotions):\n",
        "        start = e['start']\n",
        "        end = e['end']\n",
        "\n",
        "        e['right'] = right[int(start * framerate):int(end * framerate)]\n",
        "        e['left'] = left[int(start * framerate):int(end * framerate)]\n",
        "\n",
        "        frames.append({'left': e['left'], 'right': e['right']})\n",
        "    return frames"
      ],
      "metadata": {
        "execution": {
          "iopub.status.busy": "2024-04-25T13:22:27.432578Z",
          "iopub.execute_input": "2024-04-25T13:22:27.433411Z",
          "iopub.status.idle": "2024-04-25T13:22:27.442278Z",
          "shell.execute_reply.started": "2024-04-25T13:22:27.433366Z",
          "shell.execute_reply": "2024-04-25T13:22:27.441047Z"
        },
        "trusted": true,
        "id": "Iknssn0xlI3e"
      },
      "execution_count": null,
      "outputs": []
    },
    {
      "cell_type": "code",
      "source": [
        "def get_field(data, key):\n",
        "    return np.array([e[key] for e in data])"
      ],
      "metadata": {
        "execution": {
          "iopub.status.busy": "2024-04-25T13:22:27.617574Z",
          "iopub.execute_input": "2024-04-25T13:22:27.617966Z",
          "iopub.status.idle": "2024-04-25T13:22:27.622797Z",
          "shell.execute_reply.started": "2024-04-25T13:22:27.617937Z",
          "shell.execute_reply": "2024-04-25T13:22:27.621656Z"
        },
        "trusted": true,
        "id": "E3mXcSNblI3e"
      },
      "execution_count": null,
      "outputs": []
    },
    {
      "cell_type": "code",
      "source": [
        "def pad_sequence_into_array(Xs, maxlen=None, truncating='post', padding='post', value=0.):\n",
        "\n",
        "    Nsamples = len(Xs)\n",
        "    if maxlen is None:\n",
        "        lengths = [s.shape[0] for s in Xs]    # 'sequences' must be list, 's' must be numpy array, len(s) return the first dimension of s\n",
        "        maxlen = np.max(lengths)\n",
        "\n",
        "    Xout = np.ones(shape=[Nsamples, maxlen] + list(Xs[0].shape[1:]), dtype=Xs[0].dtype) * np.asarray(value, dtype=Xs[0].dtype)\n",
        "    Mask = np.zeros(shape=[Nsamples, maxlen], dtype=Xout.dtype)\n",
        "    for i in range(Nsamples):\n",
        "        x = Xs[i]\n",
        "        if truncating == 'pre':\n",
        "            trunc = x[-maxlen:]\n",
        "        elif truncating == 'post':\n",
        "            trunc = x[:maxlen]\n",
        "        else:\n",
        "            raise ValueError(\"Truncating type '%s' not understood\" % truncating)\n",
        "        if padding == 'post':\n",
        "            Xout[i, :len(trunc)] = trunc\n",
        "            Mask[i, :len(trunc)] = 1\n",
        "        elif padding == 'pre':\n",
        "            Xout[i, -len(trunc):] = trunc\n",
        "            Mask[i, -len(trunc):] = 1\n",
        "        else:\n",
        "            raise ValueError(\"Padding type '%s' not understood\" % padding)\n",
        "    return Xout, Mask"
      ],
      "metadata": {
        "execution": {
          "iopub.status.busy": "2024-04-25T13:22:27.784542Z",
          "iopub.execute_input": "2024-04-25T13:22:27.784931Z",
          "iopub.status.idle": "2024-04-25T13:22:27.795258Z",
          "shell.execute_reply.started": "2024-04-25T13:22:27.784902Z",
          "shell.execute_reply": "2024-04-25T13:22:27.794222Z"
        },
        "trusted": true,
        "id": "KejQ_F4ilI3f"
      },
      "execution_count": null,
      "outputs": []
    },
    {
      "cell_type": "code",
      "source": [
        "def convert_gt_from_array_to_list(gt_batch, gt_batch_mask=None):\n",
        "\n",
        "    B, L = gt_batch.shape\n",
        "    gt_batch = gt_batch.astype('int')\n",
        "    gts = []\n",
        "    for i in range(B):\n",
        "        if gt_batch_mask is None:\n",
        "            l = L\n",
        "        else:\n",
        "            l = int(gt_batch_mask[i, :].sum())\n",
        "        gts.append(gt_batch[i, :l].tolist())\n",
        "    return gts"
      ],
      "metadata": {
        "execution": {
          "iopub.status.busy": "2024-04-25T13:22:27.937303Z",
          "iopub.execute_input": "2024-04-25T13:22:27.937906Z",
          "iopub.status.idle": "2024-04-25T13:22:27.947914Z",
          "shell.execute_reply.started": "2024-04-25T13:22:27.937852Z",
          "shell.execute_reply": "2024-04-25T13:22:27.946407Z"
        },
        "trusted": true,
        "id": "1U-21r78lI3f"
      },
      "execution_count": null,
      "outputs": []
    },
    {
      "cell_type": "code",
      "source": [
        "def get_audio(path_to_wav, filename):\n",
        "    wav = wave.open(path_to_wav + filename, mode=\"r\")\n",
        "    (nchannels, sampwidth, framerate, nframes, comptype, compname) = wav.getparams()\n",
        "    content = wav.readframes(nframes)\n",
        "    samples = np.fromstring(content, dtype=np.int16)\n",
        "    return (nchannels, sampwidth, framerate, nframes, comptype, compname), samples"
      ],
      "metadata": {
        "execution": {
          "iopub.status.busy": "2024-04-25T13:22:28.087815Z",
          "iopub.execute_input": "2024-04-25T13:22:28.088589Z",
          "iopub.status.idle": "2024-04-25T13:22:28.094490Z",
          "shell.execute_reply.started": "2024-04-25T13:22:28.088545Z",
          "shell.execute_reply": "2024-04-25T13:22:28.093360Z"
        },
        "trusted": true,
        "id": "mGhhbS5YlI3g"
      },
      "execution_count": null,
      "outputs": []
    },
    {
      "cell_type": "code",
      "source": [
        "def get_transcriptions(path_to_transcriptions, filename):\n",
        "    f = open(path_to_transcriptions + filename, 'r').read()\n",
        "    f = np.array(f.split('\\n'))\n",
        "    transcription = {}\n",
        "    for i in range(len(f) - 1):\n",
        "        g = f[i]\n",
        "        i1 = g.find(': ')\n",
        "        i0 = g.find(' [')\n",
        "        ind_id = g[:i0]\n",
        "        ind_ts = g[i1+2:]\n",
        "        transcription[ind_id] = ind_ts\n",
        "    return transcription"
      ],
      "metadata": {
        "execution": {
          "iopub.status.busy": "2024-04-25T13:22:28.239661Z",
          "iopub.execute_input": "2024-04-25T13:22:28.240575Z",
          "iopub.status.idle": "2024-04-25T13:22:28.248019Z",
          "shell.execute_reply.started": "2024-04-25T13:22:28.240536Z",
          "shell.execute_reply": "2024-04-25T13:22:28.246886Z"
        },
        "trusted": true,
        "id": "UmveHDXClI3g"
      },
      "execution_count": null,
      "outputs": []
    },
    {
      "cell_type": "code",
      "source": [
        "def get_emotions(path_to_emotions, filename):\n",
        "    f = open(path_to_emotions + filename, 'r').read()\n",
        "    f = np.array(f.split('\\n'))\n",
        "    idx = f == ''\n",
        "    idx_n = np.arange(len(f))[idx]\n",
        "    emotion = []\n",
        "    for i in range(len(idx_n) - 2):\n",
        "        g = f[idx_n[i]+1:idx_n[i+1]]\n",
        "        head = g[0]\n",
        "        i0 = head.find(' - ')\n",
        "        start_time = float(head[head.find('[') + 1:head.find(' - ')])\n",
        "        end_time = float(head[head.find(' - ') + 3:head.find(']')])\n",
        "        actor_id = head[head.find(filename[:-4]) + len(filename[:-4]) + 1:\n",
        "                        head.find(filename[:-4]) + len(filename[:-4]) + 5]\n",
        "        emo = head[head.find('\\t[') - 3:head.find('\\t[')]\n",
        "        vad = head[head.find('\\t[') + 1:]\n",
        "\n",
        "        v = float(vad[1:7])\n",
        "        a = float(vad[9:15])\n",
        "        d = float(vad[17:23])\n",
        "\n",
        "        j = 1\n",
        "        emos = []\n",
        "        while g[j][0] == \"C\":\n",
        "            head = g[j]\n",
        "            start_idx = head.find(\"\\t\") + 1\n",
        "            evoluator_emo = []\n",
        "            idx = head.find(\";\", start_idx)\n",
        "            while idx != -1:\n",
        "                evoluator_emo.append(head[start_idx:idx].strip().lower()[:3])\n",
        "                start_idx = idx + 1\n",
        "                idx = head.find(\";\", start_idx)\n",
        "            emos.append(evoluator_emo)\n",
        "            j += 1\n",
        "\n",
        "        emotion.append({'start': start_time,\n",
        "                        'end': end_time,\n",
        "                        'id': filename[:-4] + '_' + actor_id,\n",
        "                        'v': v,\n",
        "                        'a': a,\n",
        "                        'd': d,\n",
        "                        'emotion': emo,\n",
        "                        'emo_evo': emos})\n",
        "    return emotion"
      ],
      "metadata": {
        "execution": {
          "iopub.status.busy": "2024-04-25T13:22:28.396431Z",
          "iopub.execute_input": "2024-04-25T13:22:28.396817Z",
          "iopub.status.idle": "2024-04-25T13:22:28.410772Z",
          "shell.execute_reply.started": "2024-04-25T13:22:28.396785Z",
          "shell.execute_reply": "2024-04-25T13:22:28.409697Z"
        },
        "trusted": true,
        "id": "D5wL5fZalI3g"
      },
      "execution_count": null,
      "outputs": []
    },
    {
      "cell_type": "code",
      "source": [
        "def get_mocap_rot(path_to_mocap_rot, filename, start,end):\n",
        "    f = open(path_to_mocap_rot + filename, 'r').read()\n",
        "    f = np.array(f.split('\\n'))\n",
        "    mocap_rot = []\n",
        "    mocap_rot_avg = []\n",
        "    f = f[2:]\n",
        "    counter = 0\n",
        "    for data in f:\n",
        "        counter+=1\n",
        "        data2 = data.split(' ')\n",
        "        if(len(data2)<2):\n",
        "            continue\n",
        "        if(float(data2[1])>start and float(data2[1])<end):\n",
        "            mocap_rot_avg.append(np.array(data2[2:]).astype(np.float))\n",
        "\n",
        "    mocap_rot_avg = np.array_split(np.array(mocap_rot_avg), 200)\n",
        "    for spl in mocap_rot_avg:\n",
        "        mocap_rot.append(np.mean(spl, axis=0))\n",
        "    return np.array(mocap_rot)"
      ],
      "metadata": {
        "execution": {
          "iopub.status.busy": "2024-04-25T13:22:28.554183Z",
          "iopub.execute_input": "2024-04-25T13:22:28.555146Z",
          "iopub.status.idle": "2024-04-25T13:22:28.565114Z",
          "shell.execute_reply.started": "2024-04-25T13:22:28.555103Z",
          "shell.execute_reply": "2024-04-25T13:22:28.564035Z"
        },
        "trusted": true,
        "id": "LxRyge59lI3g"
      },
      "execution_count": null,
      "outputs": []
    },
    {
      "cell_type": "code",
      "source": [
        "def get_mocap_hand(path_to_mocap_hand, filename, start,end):\n",
        "    f = open(path_to_mocap_hand + filename, 'r').read()\n",
        "    f = np.array(f.split('\\n'))\n",
        "    mocap_hand = []\n",
        "    mocap_hand_avg = []\n",
        "    f = f[2:]\n",
        "    counter = 0\n",
        "    for data in f:\n",
        "        counter+=1\n",
        "        data2 = data.split(' ')\n",
        "        if(len(data2)<2):\n",
        "            continue\n",
        "        if(float(data2[1])>start and float(data2[1])<end):\n",
        "            mocap_hand_avg.append(np.array(data2[2:]).astype(np.float))\n",
        "\n",
        "    mocap_hand_avg = np.array_split(np.array(mocap_hand_avg), 200)\n",
        "    for spl in mocap_hand_avg:\n",
        "        mocap_hand.append(np.mean(spl, axis=0))\n",
        "    return np.array(mocap_hand)"
      ],
      "metadata": {
        "execution": {
          "iopub.status.busy": "2024-04-25T13:22:28.701059Z",
          "iopub.execute_input": "2024-04-25T13:22:28.701424Z",
          "iopub.status.idle": "2024-04-25T13:22:28.709385Z",
          "shell.execute_reply.started": "2024-04-25T13:22:28.701390Z",
          "shell.execute_reply": "2024-04-25T13:22:28.708409Z"
        },
        "trusted": true,
        "id": "z5zN22PYlI3h"
      },
      "execution_count": null,
      "outputs": []
    },
    {
      "cell_type": "code",
      "source": [
        "def get_mocap_head(path_to_mocap_head, filename, start,end):\n",
        "    f = open(path_to_mocap_head + filename, 'r').read()\n",
        "    f = np.array(f.split('\\n'))\n",
        "    mocap_head = []\n",
        "    mocap_head_avg = []\n",
        "    f = f[2:]\n",
        "    counter = 0\n",
        "    for data in f:\n",
        "        counter+=1\n",
        "        data2 = data.split(' ')\n",
        "        if(len(data2)<2):\n",
        "            continue\n",
        "        if(float(data2[1])>start and float(data2[1])<end):\n",
        "            mocap_head_avg.append(np.array(data2[2:]).astype(np.float))\n",
        "\n",
        "    mocap_head_avg = np.array_split(np.array(mocap_head_avg), 200)\n",
        "    for spl in mocap_head_avg:\n",
        "        mocap_head.append(np.mean(spl, axis=0))\n",
        "    return np.array(mocap_head)"
      ],
      "metadata": {
        "execution": {
          "iopub.status.busy": "2024-04-25T13:22:28.866363Z",
          "iopub.execute_input": "2024-04-25T13:22:28.867101Z",
          "iopub.status.idle": "2024-04-25T13:22:28.874952Z",
          "shell.execute_reply.started": "2024-04-25T13:22:28.867065Z",
          "shell.execute_reply": "2024-04-25T13:22:28.873901Z"
        },
        "trusted": true,
        "id": "k-jnk3iplI3h"
      },
      "execution_count": null,
      "outputs": []
    },
    {
      "cell_type": "markdown",
      "source": [
        "# 2. Load and Preprocess Dataset"
      ],
      "metadata": {
        "id": "HHJ3z7XflI3h"
      }
    },
    {
      "cell_type": "markdown",
      "source": [
        "### Load dataset"
      ],
      "metadata": {
        "id": "gbgRPJSslI3h"
      }
    },
    {
      "cell_type": "code",
      "source": [
        "# code_path = r\"D:\\multimodal_emotion_analysis\"\n",
        "# print(code_path)\n",
        "emotions_used = np.array(['ang', 'exc', 'neu', 'sad'])\n",
        "# data_path = r\"D:\\multimodal_emotion_analysis\\IEMOCAP_full_release\\\\\"\n",
        "# print(data_path)\n",
        "sessions = ['Session1', 'Session2', 'Session3', 'Session4', 'Session5']\n",
        "framerate = 16000"
      ],
      "metadata": {
        "execution": {
          "iopub.status.busy": "2024-04-25T13:22:29.188781Z",
          "iopub.execute_input": "2024-04-25T13:22:29.189120Z",
          "iopub.status.idle": "2024-04-25T13:22:29.194532Z",
          "shell.execute_reply.started": "2024-04-25T13:22:29.189095Z",
          "shell.execute_reply": "2024-04-25T13:22:29.193482Z"
        },
        "trusted": true,
        "id": "0q63l34mlI3h"
      },
      "execution_count": null,
      "outputs": []
    },
    {
      "cell_type": "code",
      "source": [
        "def read_iemocap_mocap():\n",
        "    data = []\n",
        "    ids = {}\n",
        "    for session in sessions:\n",
        "        path_to_wav = data_path + session + '/dialog/wav/'\n",
        "        path_to_emotions = data_path + session + '/dialog/EmoEvaluation/'\n",
        "        path_to_transcriptions = data_path + session + '/dialog/transcriptions/'\n",
        "        path_to_mocap_hand = data_path + session + '/dialog/MOCAP_hand/'\n",
        "        path_to_mocap_rot = data_path + session + '/dialog/MOCAP_rotated/'\n",
        "        path_to_mocap_head = data_path + session + '/dialog/MOCAP_head/'\n",
        "\n",
        "        files2 = os.listdir(path_to_wav)\n",
        "\n",
        "        files = []\n",
        "        for f in files2:\n",
        "            if f.endswith(\".wav\"):\n",
        "                if f[0] == '.':\n",
        "                    files.append(f[2:-4])\n",
        "                else:\n",
        "                    files.append(f[:-4])\n",
        "\n",
        "\n",
        "        for f in files:\n",
        "            print(f)\n",
        "            mocap_f = f\n",
        "            if (f== 'Ses05M_script01_1b'):\n",
        "                mocap_f = 'Ses05M_script01_1'\n",
        "\n",
        "            wav = get_audio(path_to_wav, f + '.wav')\n",
        "            transcriptions = get_transcriptions(path_to_transcriptions, f + '.txt')\n",
        "            emotions = get_emotions(path_to_emotions, f + '.txt')\n",
        "            sample = split_wav(wav, emotions)\n",
        "\n",
        "            for ie, e in enumerate(emotions):\n",
        "                '''if 'F' in e['id']:\n",
        "                    e['signal'] = sample[ie]['left']\n",
        "                else:\n",
        "                    e['signal'] = sample[ie]['right']'''\n",
        "\n",
        "                e['signal'] = sample[ie]['left']\n",
        "                e.pop(\"left\", None)\n",
        "                e.pop(\"right\", None)\n",
        "                e['transcription'] = transcriptions[e['id']]\n",
        "                e['mocap_hand'] = get_mocap_hand(path_to_mocap_hand, mocap_f + '.txt', e['start'], e['end'])\n",
        "                e['mocap_rot'] = get_mocap_rot(path_to_mocap_rot, mocap_f + '.txt', e['start'], e['end'])\n",
        "                e['mocap_head'] = get_mocap_head(path_to_mocap_head, mocap_f + '.txt', e['start'], e['end'])\n",
        "                if e['emotion'] in emotions_used:\n",
        "                    if e['id'] not in ids:\n",
        "                        data.append(e)\n",
        "                        ids[e['id']] = 1\n",
        "\n",
        "\n",
        "    sort_key = get_field(data, \"id\")\n",
        "    return np.array(data)[np.argsort(sort_key)]"
      ],
      "metadata": {
        "execution": {
          "iopub.status.busy": "2024-04-25T13:22:29.493594Z",
          "iopub.execute_input": "2024-04-25T13:22:29.494333Z",
          "iopub.status.idle": "2024-04-25T13:22:29.507899Z",
          "shell.execute_reply.started": "2024-04-25T13:22:29.494301Z",
          "shell.execute_reply": "2024-04-25T13:22:29.506871Z"
        },
        "trusted": true,
        "id": "MAFSR9V2lI3h"
      },
      "execution_count": null,
      "outputs": []
    },
    {
      "cell_type": "code",
      "source": [
        "# Run only once then use pickle file\n",
        "# data = read_iemocap_mocap()\n",
        "# data.shape"
      ],
      "metadata": {
        "execution": {
          "iopub.status.busy": "2024-04-25T13:22:29.662824Z",
          "iopub.execute_input": "2024-04-25T13:22:29.663194Z",
          "iopub.status.idle": "2024-04-25T13:22:29.668528Z",
          "shell.execute_reply.started": "2024-04-25T13:22:29.663166Z",
          "shell.execute_reply": "2024-04-25T13:22:29.667680Z"
        },
        "trusted": true,
        "id": "H4Hhm0shlI3h"
      },
      "execution_count": null,
      "outputs": []
    },
    {
      "cell_type": "code",
      "source": [
        "# Store data to pickle file\n",
        "# with open(data_path +'data_collected.pickle', 'wb') as handle:\n",
        "#     pickle.dump(data, handle, protocol=pickle.HIGHEST_PROTOCOL)"
      ],
      "metadata": {
        "execution": {
          "iopub.status.busy": "2024-04-25T13:22:29.786399Z",
          "iopub.execute_input": "2024-04-25T13:22:29.787022Z",
          "iopub.status.idle": "2024-04-25T13:22:29.791315Z",
          "shell.execute_reply.started": "2024-04-25T13:22:29.786993Z",
          "shell.execute_reply": "2024-04-25T13:22:29.790192Z"
        },
        "trusted": true,
        "id": "rVyma3QblI3i"
      },
      "execution_count": null,
      "outputs": []
    },
    {
      "cell_type": "code",
      "source": [
        "# Read data from picle file\n",
        "file_path = '/kaggle/input/iemocap/data_collected.pickle'\n",
        "with open(file_path, 'rb') as handle:\n",
        "    data2 = pickle.load(handle)"
      ],
      "metadata": {
        "execution": {
          "iopub.status.busy": "2024-04-25T13:22:30.201569Z",
          "iopub.execute_input": "2024-04-25T13:22:30.201990Z",
          "iopub.status.idle": "2024-04-25T13:22:32.198325Z",
          "shell.execute_reply.started": "2024-04-25T13:22:30.201960Z",
          "shell.execute_reply": "2024-04-25T13:22:32.197521Z"
        },
        "trusted": true,
        "id": "u5EcNPNwlI3i"
      },
      "execution_count": null,
      "outputs": []
    },
    {
      "cell_type": "markdown",
      "source": [
        "# 3. Extract Features"
      ],
      "metadata": {
        "id": "nZyQxLN3lI3i"
      }
    },
    {
      "cell_type": "markdown",
      "source": [
        "### Text"
      ],
      "metadata": {
        "id": "FC0k3CPClI3i"
      }
    },
    {
      "cell_type": "code",
      "source": [
        "# Load pre-trained Word2Vec embeddings\n",
        "embedding_dim = 300\n",
        "def load_embeddings(tokenizer):\n",
        "    word_index = tokenizer.word_index\n",
        "    word2vec_model = api.load(\"word2vec-google-news-300\")\n",
        "\n",
        "    return word_index, word2vec_model"
      ],
      "metadata": {
        "execution": {
          "iopub.status.busy": "2024-04-25T13:22:32.199963Z",
          "iopub.execute_input": "2024-04-25T13:22:32.200247Z",
          "iopub.status.idle": "2024-04-25T13:22:32.205040Z",
          "shell.execute_reply.started": "2024-04-25T13:22:32.200222Z",
          "shell.execute_reply": "2024-04-25T13:22:32.204127Z"
        },
        "trusted": true,
        "id": "W7WML1RYlI3i"
      },
      "execution_count": null,
      "outputs": []
    },
    {
      "cell_type": "code",
      "source": [
        "# Create embedding matrix\n",
        "def create_embedding_matrix(word_index, word2vec_model):\n",
        "    embedding_matrix = np.zeros((len(word_index) + 1, embedding_dim))\n",
        "    for word, i in word_index.items():\n",
        "        if word in word2vec_model.key_to_index:\n",
        "            embedding_matrix[i] = word2vec_model[word]\n",
        "    return embedding_matrix"
      ],
      "metadata": {
        "execution": {
          "iopub.status.busy": "2024-04-25T13:22:32.206175Z",
          "iopub.execute_input": "2024-04-25T13:22:32.206422Z",
          "iopub.status.idle": "2024-04-25T13:22:32.216896Z",
          "shell.execute_reply.started": "2024-04-25T13:22:32.206399Z",
          "shell.execute_reply": "2024-04-25T13:22:32.215975Z"
        },
        "trusted": true,
        "id": "H8jYRPkDlI3i"
      },
      "execution_count": null,
      "outputs": []
    },
    {
      "cell_type": "code",
      "source": [
        "# with open(data_path +'embedding_matrix.pickle', 'wb') as handle:\n",
        "#     pickle.dump(embedding_matrix, handle, protocol=pickle.HIGHEST_PROTOCOL)\n",
        "# with open(data_path +'word_index.pickle', 'wb') as handle:\n",
        "#     pickle.dump(word_index, handle, protocol=pickle.HIGHEST_PROTOCOL)"
      ],
      "metadata": {
        "execution": {
          "iopub.status.busy": "2024-04-25T13:22:32.218838Z",
          "iopub.execute_input": "2024-04-25T13:22:32.219083Z",
          "iopub.status.idle": "2024-04-25T13:22:32.227703Z",
          "shell.execute_reply.started": "2024-04-25T13:22:32.219061Z",
          "shell.execute_reply": "2024-04-25T13:22:32.226842Z"
        },
        "trusted": true,
        "id": "XpdOGEiRlI3i"
      },
      "execution_count": null,
      "outputs": []
    },
    {
      "cell_type": "code",
      "source": [
        "text = []\n",
        "\n",
        "for ses_mod in data2:\n",
        "    text.append(ses_mod['transcription'])"
      ],
      "metadata": {
        "execution": {
          "iopub.status.busy": "2024-04-25T13:22:32.228669Z",
          "iopub.execute_input": "2024-04-25T13:22:32.228922Z",
          "iopub.status.idle": "2024-04-25T13:22:32.242180Z",
          "shell.execute_reply.started": "2024-04-25T13:22:32.228892Z",
          "shell.execute_reply": "2024-04-25T13:22:32.241120Z"
        },
        "trusted": true,
        "id": "NBD6digplI3i"
      },
      "execution_count": null,
      "outputs": []
    },
    {
      "cell_type": "code",
      "source": [
        "MAX_SEQUENCE_LENGTH = 50\n",
        "\n",
        "tokenizer = Tokenizer()\n",
        "tokenizer.fit_on_texts(text)\n",
        "\n",
        "token_tr_X = tokenizer.texts_to_sequences(text)\n",
        "x_train_text = []\n",
        "\n",
        "x_train_text = pad_sequences(token_tr_X, maxlen=MAX_SEQUENCE_LENGTH)"
      ],
      "metadata": {
        "execution": {
          "iopub.status.busy": "2024-04-25T13:22:32.429406Z",
          "iopub.execute_input": "2024-04-25T13:22:32.429789Z",
          "iopub.status.idle": "2024-04-25T13:22:32.623896Z",
          "shell.execute_reply.started": "2024-04-25T13:22:32.429759Z",
          "shell.execute_reply": "2024-04-25T13:22:32.623104Z"
        },
        "trusted": true,
        "id": "39oj7QrtlI3i"
      },
      "execution_count": null,
      "outputs": []
    },
    {
      "cell_type": "code",
      "source": [
        "# Run once then use pickle files\n",
        "# word_index, word2vec_model = load_embeddings(tokenizer)\n",
        "# embedding_matrix = create_embedding_matrix(word_index, word2vec_model)"
      ],
      "metadata": {
        "execution": {
          "iopub.status.busy": "2024-04-25T13:22:32.787740Z",
          "iopub.execute_input": "2024-04-25T13:22:32.788366Z",
          "iopub.status.idle": "2024-04-25T13:22:32.792671Z",
          "shell.execute_reply.started": "2024-04-25T13:22:32.788334Z",
          "shell.execute_reply": "2024-04-25T13:22:32.791462Z"
        },
        "trusted": true,
        "id": "AT7uvxLNlI3i"
      },
      "execution_count": null,
      "outputs": []
    },
    {
      "cell_type": "code",
      "source": [
        "file_path = r'/kaggle/input/iemocap/embedding_matrix.pickle'\n",
        "with open(file_path, 'rb') as handle:\n",
        "    embedding_matrix = pickle.load(handle)\n",
        "file_path = r'/kaggle/input/iemocap/word_index.pickle'\n",
        "with open(file_path, 'rb') as handle:\n",
        "    word_index = pickle.load(handle)"
      ],
      "metadata": {
        "execution": {
          "iopub.status.busy": "2024-04-25T13:22:33.015263Z",
          "iopub.execute_input": "2024-04-25T13:22:33.015956Z",
          "iopub.status.idle": "2024-04-25T13:22:33.026825Z",
          "shell.execute_reply.started": "2024-04-25T13:22:33.015922Z",
          "shell.execute_reply": "2024-04-25T13:22:33.025992Z"
        },
        "trusted": true,
        "id": "gq41dqrqlI3i"
      },
      "execution_count": null,
      "outputs": []
    },
    {
      "cell_type": "markdown",
      "source": [
        "#### Audio"
      ],
      "metadata": {
        "id": "WtdVGNHXlI3j"
      }
    },
    {
      "cell_type": "code",
      "source": [
        "def calculate_features(frames, freq):\n",
        "    frames = frames.astype(np.float32)\n",
        "    window_sec = 0.2\n",
        "    hop_length = int(freq * window_sec / 2)\n",
        "    features = librosa.feature.mfcc(y=frames, sr=freq, n_mfcc=13, hop_length=hop_length)\n",
        "    return features"
      ],
      "metadata": {
        "execution": {
          "iopub.status.busy": "2024-04-25T13:26:55.202768Z",
          "iopub.execute_input": "2024-04-25T13:26:55.203495Z",
          "iopub.status.idle": "2024-04-25T13:26:55.209062Z",
          "shell.execute_reply.started": "2024-04-25T13:26:55.203457Z",
          "shell.execute_reply": "2024-04-25T13:26:55.207927Z"
        },
        "trusted": true,
        "id": "RNfBRLGPlI3j"
      },
      "execution_count": null,
      "outputs": []
    },
    {
      "cell_type": "code",
      "source": [
        "x_train_speech = []\n",
        "\n",
        "counter = 0\n",
        "for ses_mod in data2:\n",
        "    x_head = ses_mod['signal']\n",
        "    st_features = calculate_features(x_head, framerate)\n",
        "    st_features, _ = pad_sequence_into_array(st_features, maxlen=100)\n",
        "    x_train_speech.append(st_features.T)\n",
        "    counter+=1\n",
        "    if(counter%1000==0):\n",
        "        print(counter)"
      ],
      "metadata": {
        "execution": {
          "iopub.status.busy": "2024-04-25T13:26:56.920721Z",
          "iopub.execute_input": "2024-04-25T13:26:56.921149Z",
          "iopub.status.idle": "2024-04-25T13:27:47.347070Z",
          "shell.execute_reply.started": "2024-04-25T13:26:56.921115Z",
          "shell.execute_reply": "2024-04-25T13:27:47.345680Z"
        },
        "trusted": true,
        "id": "nE68nGNllI3j"
      },
      "execution_count": null,
      "outputs": []
    },
    {
      "cell_type": "code",
      "source": [
        "x_train_speech = np.array(x_train_speech)\n",
        "x_train_speech.shape"
      ],
      "metadata": {
        "execution": {
          "iopub.status.busy": "2024-04-25T13:27:49.387989Z",
          "iopub.execute_input": "2024-04-25T13:27:49.388635Z",
          "iopub.status.idle": "2024-04-25T13:27:49.414923Z",
          "shell.execute_reply.started": "2024-04-25T13:27:49.388586Z",
          "shell.execute_reply": "2024-04-25T13:27:49.414036Z"
        },
        "trusted": true,
        "id": "DAYZWe4AlI3k"
      },
      "execution_count": null,
      "outputs": []
    },
    {
      "cell_type": "markdown",
      "source": [
        "#### Mocap"
      ],
      "metadata": {
        "id": "iGDkQUQ5lI3k"
      }
    },
    {
      "cell_type": "code",
      "source": [
        "x_train_mocap = []\n",
        "\n",
        "counter = 0\n",
        "for ses_mod in data2:\n",
        "    x_head = ses_mod['mocap_head']\n",
        "    if(x_head.shape != (200,18)):\n",
        "        x_head = np.zeros((200,18))\n",
        "    x_head[np.isnan(x_head)]=0\n",
        "    x_hand = ses_mod['mocap_hand']\n",
        "    if(x_hand.shape != (200,6)):\n",
        "        x_hand = np.zeros((200,6))\n",
        "    x_hand[np.isnan(x_hand)]=0\n",
        "    x_rot = ses_mod['mocap_rot']\n",
        "    if(x_rot.shape != (200,165)):\n",
        "        x_rot = np.zeros((200,165))\n",
        "    x_rot[np.isnan(x_rot)]=0\n",
        "    x_mocap = np.concatenate((x_head, x_hand), axis=1)\n",
        "    x_mocap = np.concatenate((x_mocap, x_rot), axis=1)\n",
        "    x_train_mocap.append( x_mocap )\n",
        "\n",
        "x_train_mocap = np.array(x_train_mocap)\n",
        "x_train_mocap = x_train_mocap.reshape(-1,200,189,1)\n",
        "x_train_mocap.shape"
      ],
      "metadata": {
        "execution": {
          "iopub.status.busy": "2024-04-25T13:28:13.768366Z",
          "iopub.execute_input": "2024-04-25T13:28:13.768755Z",
          "iopub.status.idle": "2024-04-25T13:28:14.788906Z",
          "shell.execute_reply.started": "2024-04-25T13:28:13.768724Z",
          "shell.execute_reply": "2024-04-25T13:28:14.787769Z"
        },
        "trusted": true,
        "id": "w4G1nkaUlI3k"
      },
      "execution_count": null,
      "outputs": []
    },
    {
      "cell_type": "markdown",
      "source": [
        "#### Load Labels"
      ],
      "metadata": {
        "id": "FHn4TSN5lI3k"
      }
    },
    {
      "cell_type": "code",
      "source": [
        "Y=[]\n",
        "for ses_mod in data2:\n",
        "    Y.append(ses_mod['emotion'])\n",
        "\n",
        "Y = label_binarize(Y, classes = emotions_used)\n",
        "Y.shape"
      ],
      "metadata": {
        "execution": {
          "iopub.status.busy": "2024-04-25T13:28:15.754358Z",
          "iopub.execute_input": "2024-04-25T13:28:15.754746Z",
          "iopub.status.idle": "2024-04-25T13:28:15.771633Z",
          "shell.execute_reply.started": "2024-04-25T13:28:15.754716Z",
          "shell.execute_reply": "2024-04-25T13:28:15.770674Z"
        },
        "trusted": true,
        "id": "pWbqAt55lI3k"
      },
      "execution_count": null,
      "outputs": []
    },
    {
      "cell_type": "markdown",
      "source": [
        "# 4. Training, Testing, Validation Dataset Split"
      ],
      "metadata": {
        "id": "iegsl6colI3k"
      }
    },
    {
      "cell_type": "code",
      "source": [
        "counter = 0\n",
        "for ses_mod in data2:\n",
        "    if (ses_mod['id'][:5]==\"Ses05\"):\n",
        "        break\n",
        "    counter+=1\n",
        "print(counter)"
      ],
      "metadata": {
        "execution": {
          "iopub.status.busy": "2024-04-25T13:28:18.882281Z",
          "iopub.execute_input": "2024-04-25T13:28:18.882684Z",
          "iopub.status.idle": "2024-04-25T13:28:18.891841Z",
          "shell.execute_reply.started": "2024-04-25T13:28:18.882654Z",
          "shell.execute_reply": "2024-04-25T13:28:18.890895Z"
        },
        "trusted": true,
        "id": "Jf6JbDmulI3l"
      },
      "execution_count": null,
      "outputs": []
    },
    {
      "cell_type": "code",
      "source": [
        "xtrain_sp = x_train_speech[:3000]\n",
        "xval_sp = x_train_speech[3000:3838]\n",
        "xtest_sp = x_train_speech[3838:]\n",
        "\n",
        "xtrain_tx = x_train_text[:3000]\n",
        "xval_tx = x_train_text[3000:3838]\n",
        "xtest_tx = x_train_text[3838:]\n",
        "\n",
        "x_train_mocap2 = x_train_mocap.reshape(-1,200,189)\n",
        "xtrain_mo = x_train_mocap[:3000]\n",
        "xval_mo = x_train_mocap[3000:3838]\n",
        "xtest_mo = x_train_mocap[3838:]\n",
        "\n",
        "ytrain = Y[:3000]\n",
        "yval = Y[3000:3838]\n",
        "ytest = Y[3838:]"
      ],
      "metadata": {
        "execution": {
          "iopub.status.busy": "2024-04-25T13:39:27.832247Z",
          "iopub.execute_input": "2024-04-25T13:39:27.832977Z",
          "iopub.status.idle": "2024-04-25T13:39:27.840113Z",
          "shell.execute_reply.started": "2024-04-25T13:39:27.832932Z",
          "shell.execute_reply": "2024-04-25T13:39:27.838954Z"
        },
        "trusted": true,
        "id": "v6ydoKhglI3l"
      },
      "execution_count": null,
      "outputs": []
    },
    {
      "cell_type": "markdown",
      "source": [
        "# 5. Individual Modality Training"
      ],
      "metadata": {
        "id": "_tFeCfBYlI3l"
      }
    },
    {
      "cell_type": "markdown",
      "source": [
        "### Text Model (LSTM)"
      ],
      "metadata": {
        "id": "eI4SL1RNlI3l"
      }
    },
    {
      "cell_type": "code",
      "source": [
        "model_text = Sequential()\n",
        "model_text.add(Embedding(len(word_index) + 1, embedding_dim, input_length = MAX_SEQUENCE_LENGTH,\n",
        "                    trainable = True))\n",
        "\n",
        "model_text.build(input_shape=(None, MAX_SEQUENCE_LENGTH))\n",
        "model_text.layers[0].set_weights([embedding_matrix])\n",
        "model_text.layers[0].trainable = True\n",
        "\n",
        "model_text.add(LSTM(units = 256, return_sequences=True, recurrent_dropout = 0.2))\n",
        "model_text.add(Dropout(0.2))\n",
        "model_text.add(LSTM(units = 256, return_sequences=False, recurrent_dropout = 0.2))\n",
        "model_text.add(Dropout(0.2))\n",
        "model_text.add(Dense(512))\n",
        "model_text.add(Activation('relu'))\n",
        "model_text.add(Dense(4))\n",
        "model_text.add(Activation('softmax'))"
      ],
      "metadata": {
        "execution": {
          "iopub.status.busy": "2024-04-25T13:28:24.303345Z",
          "iopub.execute_input": "2024-04-25T13:28:24.304269Z",
          "iopub.status.idle": "2024-04-25T13:28:24.467728Z",
          "shell.execute_reply.started": "2024-04-25T13:28:24.304215Z",
          "shell.execute_reply": "2024-04-25T13:28:24.466720Z"
        },
        "trusted": true,
        "id": "IfkwuXu2lI3l"
      },
      "execution_count": null,
      "outputs": []
    },
    {
      "cell_type": "code",
      "source": [
        "model_text.compile(loss='categorical_crossentropy',optimizer='adam' ,metrics=['acc'])\n",
        "model_text.summary()"
      ],
      "metadata": {
        "execution": {
          "iopub.status.busy": "2024-04-25T13:28:27.224837Z",
          "iopub.execute_input": "2024-04-25T13:28:27.225594Z",
          "iopub.status.idle": "2024-04-25T13:28:27.255353Z",
          "shell.execute_reply.started": "2024-04-25T13:28:27.225563Z",
          "shell.execute_reply": "2024-04-25T13:28:27.254431Z"
        },
        "trusted": true,
        "id": "kxqj1XrWlI3l"
      },
      "execution_count": null,
      "outputs": []
    },
    {
      "cell_type": "code",
      "source": [
        "tf.keras.utils.plot_model(model_text, to_file='text.png', show_shapes=True, show_layer_names=True)"
      ],
      "metadata": {
        "execution": {
          "iopub.status.busy": "2024-04-25T13:28:28.837253Z",
          "iopub.execute_input": "2024-04-25T13:28:28.837682Z",
          "iopub.status.idle": "2024-04-25T13:28:29.022595Z",
          "shell.execute_reply.started": "2024-04-25T13:28:28.837650Z",
          "shell.execute_reply": "2024-04-25T13:28:29.021658Z"
        },
        "trusted": true,
        "id": "CU8oGHIulI3l"
      },
      "execution_count": null,
      "outputs": []
    },
    {
      "cell_type": "code",
      "source": [
        "hist_text = model_text.fit(xtrain_tx, ytrain, batch_size=64, epochs=30, verbose=1, validation_data=(xval_tx, yval))"
      ],
      "metadata": {
        "execution": {
          "iopub.status.busy": "2024-04-25T13:28:29.587913Z",
          "iopub.execute_input": "2024-04-25T13:28:29.588316Z",
          "iopub.status.idle": "2024-04-25T13:31:49.479685Z",
          "shell.execute_reply.started": "2024-04-25T13:28:29.588285Z",
          "shell.execute_reply": "2024-04-25T13:31:49.478824Z"
        },
        "trusted": true,
        "id": "lN3EvY9blI3m"
      },
      "execution_count": null,
      "outputs": []
    },
    {
      "cell_type": "code",
      "source": [
        "print(max(hist_text.history['val_acc']))"
      ],
      "metadata": {
        "execution": {
          "iopub.status.busy": "2024-04-25T13:32:23.337941Z",
          "iopub.execute_input": "2024-04-25T13:32:23.338315Z",
          "iopub.status.idle": "2024-04-25T13:32:23.343438Z",
          "shell.execute_reply.started": "2024-04-25T13:32:23.338284Z",
          "shell.execute_reply": "2024-04-25T13:32:23.342477Z"
        },
        "trusted": true,
        "id": "j9SC_mHplI3m"
      },
      "execution_count": null,
      "outputs": []
    },
    {
      "cell_type": "markdown",
      "source": [
        "### Speech Model (LSTM)"
      ],
      "metadata": {
        "id": "XMqHmyRKlI3m"
      }
    },
    {
      "cell_type": "code",
      "source": [
        "input_sequence = Input(shape=(100, 13))\n",
        "query = LSTM(units=128, return_sequences=True, recurrent_dropout=0.2)(input_sequence)\n",
        "value = LSTM(units=128, return_sequences=True, recurrent_dropout=0.2)(input_sequence)\n",
        "attention = Attention()([query, value])\n",
        "dropout = Dropout(0.2)(attention)\n",
        "flatten = Flatten()(dropout)\n",
        "dense1 = Dense(256)(flatten)\n",
        "act = Activation('relu')(dense1)\n",
        "dense2 = Dense(4)(act)\n",
        "output = Activation('softmax')(dense2)\n",
        "model_speech = Model(inputs=input_sequence, outputs=output)"
      ],
      "metadata": {
        "execution": {
          "iopub.status.busy": "2024-04-25T13:55:26.667694Z",
          "iopub.execute_input": "2024-04-25T13:55:26.668065Z",
          "iopub.status.idle": "2024-04-25T13:55:26.742997Z",
          "shell.execute_reply.started": "2024-04-25T13:55:26.668035Z",
          "shell.execute_reply": "2024-04-25T13:55:26.742171Z"
        },
        "trusted": true,
        "id": "1sd3gkKjlI3m"
      },
      "execution_count": null,
      "outputs": []
    },
    {
      "cell_type": "code",
      "source": [
        "model_speech.compile(loss='categorical_crossentropy',optimizer='adam' ,metrics=['acc'])\n",
        "model_speech.summary()"
      ],
      "metadata": {
        "execution": {
          "iopub.status.busy": "2024-04-25T13:55:27.555703Z",
          "iopub.execute_input": "2024-04-25T13:55:27.556046Z",
          "iopub.status.idle": "2024-04-25T13:55:27.590355Z",
          "shell.execute_reply.started": "2024-04-25T13:55:27.556019Z",
          "shell.execute_reply": "2024-04-25T13:55:27.589407Z"
        },
        "trusted": true,
        "id": "A8Rli_DElI3m"
      },
      "execution_count": null,
      "outputs": []
    },
    {
      "cell_type": "code",
      "source": [
        "tf.keras.utils.plot_model(model_speech, to_file='speech.png', show_shapes=True, show_layer_names=True)"
      ],
      "metadata": {
        "execution": {
          "iopub.status.busy": "2024-04-25T13:55:28.613079Z",
          "iopub.execute_input": "2024-04-25T13:55:28.614093Z",
          "iopub.status.idle": "2024-04-25T13:55:28.922939Z",
          "shell.execute_reply.started": "2024-04-25T13:55:28.614055Z",
          "shell.execute_reply": "2024-04-25T13:55:28.921984Z"
        },
        "trusted": true,
        "id": "QR4yQOOnlI3m"
      },
      "execution_count": null,
      "outputs": []
    },
    {
      "cell_type": "code",
      "source": [
        "hist_speech = model_speech.fit(xtrain_sp, ytrain, batch_size=64, epochs=30, verbose=1, validation_data=(xval_sp, yval))"
      ],
      "metadata": {
        "execution": {
          "iopub.status.busy": "2024-04-25T13:55:30.707143Z",
          "iopub.execute_input": "2024-04-25T13:55:30.707799Z",
          "iopub.status.idle": "2024-04-25T14:00:16.193836Z",
          "shell.execute_reply.started": "2024-04-25T13:55:30.707764Z",
          "shell.execute_reply": "2024-04-25T14:00:16.192785Z"
        },
        "trusted": true,
        "id": "5Y-eP1WhlI3m"
      },
      "execution_count": null,
      "outputs": []
    },
    {
      "cell_type": "code",
      "source": [
        "print(max(hist_speech.history['val_acc']))"
      ],
      "metadata": {
        "execution": {
          "iopub.status.busy": "2024-04-25T14:00:16.196089Z",
          "iopub.execute_input": "2024-04-25T14:00:16.196578Z",
          "iopub.status.idle": "2024-04-25T14:00:16.201545Z",
          "shell.execute_reply.started": "2024-04-25T14:00:16.196552Z",
          "shell.execute_reply": "2024-04-25T14:00:16.200614Z"
        },
        "trusted": true,
        "id": "zE-n7XK6lI3m"
      },
      "execution_count": null,
      "outputs": []
    },
    {
      "cell_type": "markdown",
      "source": [
        "### Mocap Model (2D CNN)"
      ],
      "metadata": {
        "id": "W88Q9TEblI3m"
      }
    },
    {
      "cell_type": "code",
      "source": [
        "model_mocap = Sequential()\n",
        "\n",
        "model_mocap.add(Conv2D(32, 3, strides=(2, 2), padding='same', input_shape=(200, 165, 1)))\n",
        "model_mocap.add(Dropout(0.2))\n",
        "model_mocap.add(Activation('relu'))\n",
        "\n",
        "model_mocap.add(Conv2D(64, 3, strides=(2, 2), padding='same'))\n",
        "model_mocap.add(Dropout(0.2))\n",
        "model_mocap.add(Activation('relu'))\n",
        "\n",
        "model_mocap.add(Conv2D(64, 3, strides=(2, 2), padding='same'))\n",
        "model_mocap.add(Dropout(0.2))\n",
        "model_mocap.add(Activation('relu'))\n",
        "\n",
        "model_mocap.add(Conv2D(128, 3, strides=(2, 2), padding='same'))\n",
        "model_mocap.add(Dropout(0.2))\n",
        "model_mocap.add(Activation('relu'))\n",
        "\n",
        "model_mocap.add(Conv2D(128, 3, strides=(2, 2), padding='same'))\n",
        "model_mocap.add(Dropout(0.2))\n",
        "model_mocap.add(Activation('relu'))\n",
        "\n",
        "model_mocap.add(Flatten())\n",
        "model_mocap.add(Dropout(0.2))\n",
        "model_mocap.add(Dense(256))\n",
        "\n",
        "model_mocap.add(Activation('relu'))\n",
        "model_mocap.add(Dropout(0.2))\n",
        "model_mocap.add(Dense(4))\n",
        "model_mocap.add(Activation('softmax'))"
      ],
      "metadata": {
        "execution": {
          "iopub.status.busy": "2024-04-25T14:00:16.202725Z",
          "iopub.execute_input": "2024-04-25T14:00:16.202988Z",
          "iopub.status.idle": "2024-04-25T14:00:16.451247Z",
          "shell.execute_reply.started": "2024-04-25T14:00:16.202965Z",
          "shell.execute_reply": "2024-04-25T14:00:16.450456Z"
        },
        "trusted": true,
        "id": "6Weal3yflI3n"
      },
      "execution_count": null,
      "outputs": []
    },
    {
      "cell_type": "code",
      "source": [
        "model_mocap.compile(loss='categorical_crossentropy',optimizer='adam' ,metrics=['acc'])\n",
        "model_mocap.summary()"
      ],
      "metadata": {
        "execution": {
          "iopub.status.busy": "2024-04-25T14:00:16.453209Z",
          "iopub.execute_input": "2024-04-25T14:00:16.453493Z",
          "iopub.status.idle": "2024-04-25T14:00:16.493989Z",
          "shell.execute_reply.started": "2024-04-25T14:00:16.453469Z",
          "shell.execute_reply": "2024-04-25T14:00:16.493037Z"
        },
        "trusted": true,
        "id": "oH_4xYyslI3n"
      },
      "execution_count": null,
      "outputs": []
    },
    {
      "cell_type": "code",
      "source": [
        "tf.keras.utils.plot_model(model_mocap, to_file='mocap.png', show_shapes=True, show_layer_names=True)"
      ],
      "metadata": {
        "execution": {
          "iopub.status.busy": "2024-04-25T14:00:16.495253Z",
          "iopub.execute_input": "2024-04-25T14:00:16.495595Z",
          "iopub.status.idle": "2024-04-25T14:00:17.036152Z",
          "shell.execute_reply.started": "2024-04-25T14:00:16.495563Z",
          "shell.execute_reply": "2024-04-25T14:00:17.035269Z"
        },
        "trusted": true,
        "id": "1YpfpzAVlI3n"
      },
      "execution_count": null,
      "outputs": []
    },
    {
      "cell_type": "code",
      "source": [
        "hist_mocap = model_mocap.fit(xtrain_mo, ytrain, batch_size=64, epochs=30, verbose=1, validation_data=(xval_mo, yval))"
      ],
      "metadata": {
        "execution": {
          "iopub.status.busy": "2024-04-25T14:00:17.037208Z",
          "iopub.execute_input": "2024-04-25T14:00:17.037477Z",
          "iopub.status.idle": "2024-04-25T14:01:20.566406Z",
          "shell.execute_reply.started": "2024-04-25T14:00:17.037454Z",
          "shell.execute_reply": "2024-04-25T14:01:20.565323Z"
        },
        "trusted": true,
        "id": "OCO_WI5QlI3n"
      },
      "execution_count": null,
      "outputs": []
    },
    {
      "cell_type": "code",
      "source": [
        "print(max(hist_mocap.history['val_acc']))"
      ],
      "metadata": {
        "execution": {
          "iopub.status.busy": "2024-04-25T14:01:32.977074Z",
          "iopub.execute_input": "2024-04-25T14:01:32.977862Z",
          "iopub.status.idle": "2024-04-25T14:01:32.982934Z",
          "shell.execute_reply.started": "2024-04-25T14:01:32.977827Z",
          "shell.execute_reply": "2024-04-25T14:01:32.981772Z"
        },
        "trusted": true,
        "id": "o9OmNTG-lI3n"
      },
      "execution_count": null,
      "outputs": []
    },
    {
      "cell_type": "markdown",
      "source": [
        "# 6. Ensemble Model"
      ],
      "metadata": {
        "id": "JfZtjcW5lI3n"
      }
    },
    {
      "cell_type": "code",
      "source": [
        "# Text\n",
        "model_text1 = Sequential()\n",
        "model_text1.add(Embedding(len(word_index) + 1, embedding_dim, input_length = MAX_SEQUENCE_LENGTH,\n",
        "                    trainable = True))\n",
        "\n",
        "model_text1.build(input_shape=(None, MAX_SEQUENCE_LENGTH))\n",
        "model_text1.layers[0].set_weights([embedding_matrix])\n",
        "model_text1.layers[0].trainable = True\n",
        "\n",
        "model_text1.add(LSTM(units = 256, return_sequences=True, recurrent_dropout = 0.2))\n",
        "model_text1.add(Dropout(0.2))\n",
        "model_text1.add(LSTM(units = 256, return_sequences=False, recurrent_dropout = 0.2))\n",
        "model_text1.add(Dropout(0.2))\n",
        "model_text1.add(Dense(512))"
      ],
      "metadata": {
        "execution": {
          "iopub.status.busy": "2024-04-25T14:21:58.316813Z",
          "iopub.execute_input": "2024-04-25T14:21:58.317690Z",
          "iopub.status.idle": "2024-04-25T14:21:58.442547Z",
          "shell.execute_reply.started": "2024-04-25T14:21:58.317656Z",
          "shell.execute_reply": "2024-04-25T14:21:58.441586Z"
        },
        "trusted": true,
        "id": "zG3hHHO8lI3n"
      },
      "execution_count": null,
      "outputs": []
    },
    {
      "cell_type": "code",
      "source": [
        "# Audio\n",
        "input_sequence1 = Input(shape=(100, 13))\n",
        "query1 = LSTM(units=128, return_sequences=True, recurrent_dropout=0.2)(input_sequence1)\n",
        "value1 = LSTM(units=128, return_sequences=True, recurrent_dropout=0.2)(input_sequence1)\n",
        "attention1 = Attention()([query1, value1])\n",
        "dropout1 = Dropout(0.2)(attention1)\n",
        "flatten1 = Flatten()(dropout1)\n",
        "dense11 = Dense(256)(flatten1)\n",
        "act1 = Activation('relu')(dense11)\n",
        "dense21 = Dense(4)(act1)\n",
        "output1 = Activation('softmax')(dense21)\n",
        "model_speech1 = Model(inputs=input_sequence1, outputs=output1)"
      ],
      "metadata": {
        "execution": {
          "iopub.status.busy": "2024-04-25T14:22:00.699458Z",
          "iopub.execute_input": "2024-04-25T14:22:00.700128Z",
          "iopub.status.idle": "2024-04-25T14:22:00.772973Z",
          "shell.execute_reply.started": "2024-04-25T14:22:00.700097Z",
          "shell.execute_reply": "2024-04-25T14:22:00.772180Z"
        },
        "trusted": true,
        "id": "j_iBEwI4lI3o"
      },
      "execution_count": null,
      "outputs": []
    },
    {
      "cell_type": "code",
      "source": [
        "# Mocap\n",
        "model_mocap1 = Sequential()\n",
        "\n",
        "model_mocap1.add(Conv2D(32, 3, strides=(2, 2), padding='same', input_shape=(200, 189, 1)))\n",
        "model_mocap1.add(Dropout(0.2))\n",
        "model_mocap1.add(Activation('relu'))\n",
        "\n",
        "model_mocap1.add(Conv2D(64, 3, strides=(2, 2), padding='same'))\n",
        "model_mocap1.add(Dropout(0.2))\n",
        "model_mocap1.add(Activation('relu'))\n",
        "\n",
        "model_mocap1.add(Conv2D(64, 3, strides=(2, 2), padding='same'))\n",
        "model_mocap1.add(Dropout(0.2))\n",
        "model_mocap1.add(Activation('relu'))\n",
        "\n",
        "model_mocap1.add(Conv2D(128, 3, strides=(2, 2), padding='same'))\n",
        "model_mocap1.add(Dropout(0.2))\n",
        "model_mocap1.add(Activation('relu'))\n",
        "\n",
        "model_mocap1.add(Conv2D(128, 3, strides=(2, 2), padding='same'))\n",
        "model_mocap1.add(Dropout(0.2))\n",
        "model_mocap1.add(Activation('relu'))\n",
        "\n",
        "model_mocap1.add(Flatten())\n",
        "model_mocap1.add(Dropout(0.2))\n",
        "model_mocap1.add(Dense(256))"
      ],
      "metadata": {
        "execution": {
          "iopub.status.busy": "2024-04-25T14:22:03.120721Z",
          "iopub.execute_input": "2024-04-25T14:22:03.121092Z",
          "iopub.status.idle": "2024-04-25T14:22:03.325415Z",
          "shell.execute_reply.started": "2024-04-25T14:22:03.121063Z",
          "shell.execute_reply": "2024-04-25T14:22:03.324445Z"
        },
        "trusted": true,
        "id": "cxY0wE1SlI3o"
      },
      "execution_count": null,
      "outputs": []
    },
    {
      "cell_type": "code",
      "source": [
        "model_combined = Sequential()\n",
        "model_combined.add(Concatenate([model_text1, model_speech1, model_mocap1]))\n",
        "model_combined.add(Activation('relu'))\n",
        "model_combined.add(Dense(256))\n",
        "model_combined.add(Activation('relu'))\n",
        "model_combined.add(Dense(4))\n",
        "model_combined.add(Activation('softmax'))"
      ],
      "metadata": {
        "execution": {
          "iopub.status.busy": "2024-04-25T14:07:13.493401Z",
          "iopub.execute_input": "2024-04-25T14:07:13.494277Z",
          "iopub.status.idle": "2024-04-25T14:07:13.505709Z",
          "shell.execute_reply.started": "2024-04-25T14:07:13.494244Z",
          "shell.execute_reply": "2024-04-25T14:07:13.504605Z"
        },
        "trusted": true,
        "id": "PiHIDjgylI3o"
      },
      "execution_count": null,
      "outputs": []
    },
    {
      "cell_type": "code",
      "source": [
        "from tensorflow.keras.models import Model\n",
        "from tensorflow.keras.layers import Concatenate, Activation, Dense\n",
        "\n",
        "# Define input layers for each modality\n",
        "text_input = Input(shape=(MAX_SEQUENCE_LENGTH,))\n",
        "audio_input = Input(shape=(100, 13))\n",
        "mocap_input = Input(shape=(200, 189, 1))\n",
        "\n",
        "# Concatenate the outputs of the individual models\n",
        "combined_output = Concatenate()([model_text1(text_input), model_speech1(audio_input), model_mocap1(mocap_input)])\n",
        "\n",
        "# Add Activation and Dense layers\n",
        "x = Activation('relu')(combined_output)\n",
        "x = Dense(256)(x)\n",
        "x = Activation('relu')(x)\n",
        "output = Dense(4, activation='softmax')(x)\n",
        "\n",
        "# Create the combined model\n",
        "model_combined = Model(inputs=[text_input, audio_input, mocap_input], outputs=output)"
      ],
      "metadata": {
        "execution": {
          "iopub.status.busy": "2024-04-25T14:22:16.808467Z",
          "iopub.execute_input": "2024-04-25T14:22:16.809238Z",
          "iopub.status.idle": "2024-04-25T14:22:16.844555Z",
          "shell.execute_reply.started": "2024-04-25T14:22:16.809203Z",
          "shell.execute_reply": "2024-04-25T14:22:16.843631Z"
        },
        "trusted": true,
        "id": "T8JnoNeblI3o"
      },
      "execution_count": null,
      "outputs": []
    },
    {
      "cell_type": "code",
      "source": [
        "model_combined.compile(loss='categorical_crossentropy',optimizer='adam' ,metrics=['acc'])\n",
        "model_combined.summary()"
      ],
      "metadata": {
        "execution": {
          "iopub.status.busy": "2024-04-25T14:22:19.368054Z",
          "iopub.execute_input": "2024-04-25T14:22:19.368851Z",
          "iopub.status.idle": "2024-04-25T14:22:19.403028Z",
          "shell.execute_reply.started": "2024-04-25T14:22:19.368814Z",
          "shell.execute_reply": "2024-04-25T14:22:19.402084Z"
        },
        "trusted": true,
        "id": "210m-eKzlI3o"
      },
      "execution_count": null,
      "outputs": []
    },
    {
      "cell_type": "code",
      "source": [
        "tf.keras.utils.plot_model(model_combined, to_file='combined.png', show_shapes=True, show_layer_names=True)"
      ],
      "metadata": {
        "execution": {
          "iopub.status.busy": "2024-04-25T14:22:22.676374Z",
          "iopub.execute_input": "2024-04-25T14:22:22.677150Z",
          "iopub.status.idle": "2024-04-25T14:22:23.025568Z",
          "shell.execute_reply.started": "2024-04-25T14:22:22.677120Z",
          "shell.execute_reply": "2024-04-25T14:22:23.024588Z"
        },
        "trusted": true,
        "id": "_VkYxui6lI3o"
      },
      "execution_count": null,
      "outputs": []
    },
    {
      "cell_type": "code",
      "source": [
        "hist_combined = model_combined.fit([xtrain_tx,xtrain_sp,xtrain_mo], ytrain,\n",
        "                     batch_size=64, epochs=30, verbose=1,\n",
        "                     validation_data=([xval_tx,xval_sp,xval_mo], yval))"
      ],
      "metadata": {
        "execution": {
          "iopub.status.busy": "2024-04-25T14:22:27.149769Z",
          "iopub.execute_input": "2024-04-25T14:22:27.150612Z",
          "iopub.status.idle": "2024-04-25T14:30:47.556271Z",
          "shell.execute_reply.started": "2024-04-25T14:22:27.150580Z",
          "shell.execute_reply": "2024-04-25T14:30:47.555288Z"
        },
        "trusted": true,
        "id": "i0UXeziDlI3o"
      },
      "execution_count": null,
      "outputs": []
    },
    {
      "cell_type": "code",
      "source": [
        "print(max(hist_combined.history['val_acc']))"
      ],
      "metadata": {
        "execution": {
          "iopub.status.busy": "2024-04-25T14:30:50.242672Z",
          "iopub.execute_input": "2024-04-25T14:30:50.243466Z",
          "iopub.status.idle": "2024-04-25T14:30:50.248459Z",
          "shell.execute_reply.started": "2024-04-25T14:30:50.243433Z",
          "shell.execute_reply": "2024-04-25T14:30:50.247453Z"
        },
        "trusted": true,
        "id": "q-niqVZulI3p"
      },
      "execution_count": null,
      "outputs": []
    },
    {
      "cell_type": "markdown",
      "source": [
        "### Test"
      ],
      "metadata": {
        "id": "M8v9zbiolI3p"
      }
    },
    {
      "cell_type": "code",
      "source": [
        "# Import Modules\n",
        "import numpy as np\n",
        "from sklearn.metrics import confusion_matrix, accuracy_score"
      ],
      "metadata": {
        "execution": {
          "iopub.status.busy": "2024-04-25T14:30:52.771203Z",
          "iopub.execute_input": "2024-04-25T14:30:52.771588Z",
          "iopub.status.idle": "2024-04-25T14:30:52.843548Z",
          "shell.execute_reply.started": "2024-04-25T14:30:52.771558Z",
          "shell.execute_reply": "2024-04-25T14:30:52.842392Z"
        },
        "trusted": true,
        "id": "UpI0dOAjlI3p"
      },
      "execution_count": null,
      "outputs": []
    },
    {
      "cell_type": "code",
      "source": [
        "# Predict labels for the test data\n",
        "y_pred = model_combined.predict([xtest_tx, xtest_sp, xtest_mo])\n",
        "y_pred_classes = np.argmax(y_pred, axis=1)\n",
        "\n",
        "# Convert one-hot encoded true labels to categorical labels\n",
        "y_true = np.argmax(ytest, axis=1)\n",
        "\n",
        "# Compute confusion matrix\n",
        "conf_matrix = confusion_matrix(y_true, y_pred_classes)"
      ],
      "metadata": {
        "execution": {
          "iopub.status.busy": "2024-04-25T14:42:36.048520Z",
          "iopub.execute_input": "2024-04-25T14:42:36.049496Z",
          "iopub.status.idle": "2024-04-25T14:42:39.206691Z",
          "shell.execute_reply.started": "2024-04-25T14:42:36.049461Z",
          "shell.execute_reply": "2024-04-25T14:42:39.205503Z"
        },
        "trusted": true,
        "id": "dXAnKLLBlI3p"
      },
      "execution_count": null,
      "outputs": []
    },
    {
      "cell_type": "code",
      "source": [
        "import matplotlib.pyplot as plt\n",
        "import seaborn as sns\n",
        "\n",
        "plt.figure(figsize=(10, 8))\n",
        "sns.heatmap(conf_matrix, annot=True, fmt='d', cmap='Blues', xticklabels=[0, 1, 2, 3], yticklabels=[0, 1, 2, 3])\n",
        "plt.xlabel('Predicted labels')\n",
        "plt.ylabel('True labels')\n",
        "plt.title('Confusion Matrix')\n",
        "plt.show()"
      ],
      "metadata": {
        "execution": {
          "iopub.status.busy": "2024-04-25T14:42:39.208459Z",
          "iopub.execute_input": "2024-04-25T14:42:39.208797Z",
          "iopub.status.idle": "2024-04-25T14:42:39.531772Z",
          "shell.execute_reply.started": "2024-04-25T14:42:39.208768Z",
          "shell.execute_reply": "2024-04-25T14:42:39.530777Z"
        },
        "trusted": true,
        "id": "oMQiQUPFlI3p"
      },
      "execution_count": null,
      "outputs": []
    },
    {
      "cell_type": "code",
      "source": [],
      "metadata": {
        "id": "LGUNmtBjlI3p"
      },
      "execution_count": null,
      "outputs": []
    }
  ]
}